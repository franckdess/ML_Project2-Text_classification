{
 "cells": [
  {
   "cell_type": "code",
   "execution_count": 2,
   "metadata": {
    "collapsed": true
   },
   "outputs": [],
   "source": [
    "import sklearn\n",
    "import re\n",
    "import numpy as np\n",
    "import scipy as sp\n",
    "import pandas as pd\n",
    "import glove_solution\n",
    "import matplotlib.pyplot as plt\n",
    "\n",
    "from sklearn.linear_model import LogisticRegression\n",
    "from sklearn.feature_selection import RFECV\n",
    "from sklearn.svm import SVR\n",
    "from sklearn.preprocessing import PolynomialFeatures"
   ]
  },
  {
   "cell_type": "code",
   "execution_count": 3,
   "metadata": {
    "collapsed": true
   },
   "outputs": [],
   "source": [
    "# Import all vector words\n",
    "all_words = np.load('embeddings.npy')"
   ]
  },
  {
   "cell_type": "code",
   "execution_count": 4,
   "metadata": {},
   "outputs": [
    {
     "data": {
      "text/plain": [
       "array([['<user>'],\n",
       "       ['!'],\n",
       "       ['i'],\n",
       "       ...,\n",
       "       ['#1dson'],\n",
       "       ['#18'],\n",
       "       ['#10fac']], dtype=object)"
      ]
     },
     "execution_count": 4,
     "metadata": {},
     "output_type": "execute_result"
    }
   ],
   "source": [
    "# Import vocab and transform it into an array\n",
    "vocab_cut = pd.read_fwf('vocab_cut.txt', sep = \"\\t\", header = None, error_bad_lines=False)\n",
    "vocab_cut.columns = ['word']\n",
    "voc = vocab_cut.values\n",
    "voc"
   ]
  },
  {
   "cell_type": "code",
   "execution_count": 5,
   "metadata": {
    "collapsed": true
   },
   "outputs": [],
   "source": [
    "# Load train set positiv and train set negativ\n",
    "tweet_pos = pd.read_csv('data/train_pos.txt', sep = '\\t', header = None)\n",
    "tweet_neg = pd.read_csv('data/train_neg.txt', sep = '\\t', header = None)\n",
    "tweet_test = pd.read_csv('data/test_data.txt', sep = '\\t', header = None)"
   ]
  },
  {
   "cell_type": "code",
   "execution_count": 6,
   "metadata": {},
   "outputs": [
    {
     "data": {
      "text/html": [
       "<div>\n",
       "<style>\n",
       "    .dataframe thead tr:only-child th {\n",
       "        text-align: right;\n",
       "    }\n",
       "\n",
       "    .dataframe thead th {\n",
       "        text-align: left;\n",
       "    }\n",
       "\n",
       "    .dataframe tbody tr th {\n",
       "        vertical-align: top;\n",
       "    }\n",
       "</style>\n",
       "<table border=\"1\" class=\"dataframe\">\n",
       "  <thead>\n",
       "    <tr style=\"text-align: right;\">\n",
       "      <th></th>\n",
       "      <th>0</th>\n",
       "    </tr>\n",
       "  </thead>\n",
       "  <tbody>\n",
       "    <tr>\n",
       "      <th>0</th>\n",
       "      <td>&lt;user&gt; i dunno justin read my mention or not ....</td>\n",
       "    </tr>\n",
       "    <tr>\n",
       "      <th>1</th>\n",
       "      <td>because your logic is so dumb , i won't even c...</td>\n",
       "    </tr>\n",
       "    <tr>\n",
       "      <th>2</th>\n",
       "      <td>&lt;user&gt; just put casper in a box !  looved the...</td>\n",
       "    </tr>\n",
       "    <tr>\n",
       "      <th>3</th>\n",
       "      <td>&lt;user&gt; &lt;user&gt; thanks sir &gt; &gt; don't trip lil ma...</td>\n",
       "    </tr>\n",
       "    <tr>\n",
       "      <th>4</th>\n",
       "      <td>visiting my brother tmr is the bestest birthda...</td>\n",
       "    </tr>\n",
       "  </tbody>\n",
       "</table>\n",
       "</div>"
      ],
      "text/plain": [
       "                                                   0\n",
       "0  <user> i dunno justin read my mention or not ....\n",
       "1  because your logic is so dumb , i won't even c...\n",
       "2   <user> just put casper in a box !  looved the...\n",
       "3  <user> <user> thanks sir > > don't trip lil ma...\n",
       "4  visiting my brother tmr is the bestest birthda..."
      ]
     },
     "execution_count": 6,
     "metadata": {},
     "output_type": "execute_result"
    }
   ],
   "source": [
    "tweet_pos.head()"
   ]
  },
  {
   "cell_type": "code",
   "execution_count": 7,
   "metadata": {},
   "outputs": [
    {
     "data": {
      "text/html": [
       "<div>\n",
       "<style>\n",
       "    .dataframe thead tr:only-child th {\n",
       "        text-align: right;\n",
       "    }\n",
       "\n",
       "    .dataframe thead th {\n",
       "        text-align: left;\n",
       "    }\n",
       "\n",
       "    .dataframe tbody tr th {\n",
       "        vertical-align: top;\n",
       "    }\n",
       "</style>\n",
       "<table border=\"1\" class=\"dataframe\">\n",
       "  <thead>\n",
       "    <tr style=\"text-align: right;\">\n",
       "      <th></th>\n",
       "      <th>0</th>\n",
       "    </tr>\n",
       "  </thead>\n",
       "  <tbody>\n",
       "    <tr>\n",
       "      <th>0</th>\n",
       "      <td>vinco tresorpack 6 ( difficulty 10 of 10 objec...</td>\n",
       "    </tr>\n",
       "    <tr>\n",
       "      <th>1</th>\n",
       "      <td>glad i dot have taks tomorrow ! ! #thankful #s...</td>\n",
       "    </tr>\n",
       "    <tr>\n",
       "      <th>2</th>\n",
       "      <td>1-3 vs celtics in the regular season = were fu...</td>\n",
       "    </tr>\n",
       "    <tr>\n",
       "      <th>3</th>\n",
       "      <td>&lt;user&gt; i could actually kill that girl i'm so ...</td>\n",
       "    </tr>\n",
       "    <tr>\n",
       "      <th>4</th>\n",
       "      <td>&lt;user&gt; &lt;user&gt; &lt;user&gt; i find that very hard to ...</td>\n",
       "    </tr>\n",
       "  </tbody>\n",
       "</table>\n",
       "</div>"
      ],
      "text/plain": [
       "                                                   0\n",
       "0  vinco tresorpack 6 ( difficulty 10 of 10 objec...\n",
       "1  glad i dot have taks tomorrow ! ! #thankful #s...\n",
       "2  1-3 vs celtics in the regular season = were fu...\n",
       "3  <user> i could actually kill that girl i'm so ...\n",
       "4  <user> <user> <user> i find that very hard to ..."
      ]
     },
     "execution_count": 7,
     "metadata": {},
     "output_type": "execute_result"
    }
   ],
   "source": [
    "tweet_neg.head()"
   ]
  },
  {
   "cell_type": "code",
   "execution_count": 8,
   "metadata": {},
   "outputs": [
    {
     "data": {
      "text/html": [
       "<div>\n",
       "<style>\n",
       "    .dataframe thead tr:only-child th {\n",
       "        text-align: right;\n",
       "    }\n",
       "\n",
       "    .dataframe thead th {\n",
       "        text-align: left;\n",
       "    }\n",
       "\n",
       "    .dataframe tbody tr th {\n",
       "        vertical-align: top;\n",
       "    }\n",
       "</style>\n",
       "<table border=\"1\" class=\"dataframe\">\n",
       "  <thead>\n",
       "    <tr style=\"text-align: right;\">\n",
       "      <th></th>\n",
       "      <th>0</th>\n",
       "    </tr>\n",
       "  </thead>\n",
       "  <tbody>\n",
       "    <tr>\n",
       "      <th>0</th>\n",
       "      <td>1,sea doo pro sea scooter ( sports with the po...</td>\n",
       "    </tr>\n",
       "    <tr>\n",
       "      <th>1</th>\n",
       "      <td>2,&lt;user&gt; shucks well i work all week so now i ...</td>\n",
       "    </tr>\n",
       "    <tr>\n",
       "      <th>2</th>\n",
       "      <td>3,i cant stay away from bug thats my baby</td>\n",
       "    </tr>\n",
       "    <tr>\n",
       "      <th>3</th>\n",
       "      <td>4,&lt;user&gt; no ma'am ! ! ! lol im perfectly fine ...</td>\n",
       "    </tr>\n",
       "    <tr>\n",
       "      <th>4</th>\n",
       "      <td>5,whenever i fall asleep watching the tv , i a...</td>\n",
       "    </tr>\n",
       "  </tbody>\n",
       "</table>\n",
       "</div>"
      ],
      "text/plain": [
       "                                                   0\n",
       "0  1,sea doo pro sea scooter ( sports with the po...\n",
       "1  2,<user> shucks well i work all week so now i ...\n",
       "2          3,i cant stay away from bug thats my baby\n",
       "3  4,<user> no ma'am ! ! ! lol im perfectly fine ...\n",
       "4  5,whenever i fall asleep watching the tv , i a..."
      ]
     },
     "execution_count": 8,
     "metadata": {},
     "output_type": "execute_result"
    }
   ],
   "source": [
    "tweet_test.head()"
   ]
  },
  {
   "cell_type": "code",
   "execution_count": 9,
   "metadata": {
    "collapsed": true
   },
   "outputs": [],
   "source": [
    "def tweet_to_vect(tweet):\n",
    "    \"\"\" Map a tweet to a vector using the\n",
    "        vector of each word that is present\n",
    "        in the tweet\"\"\"\n",
    "    word_array = re.findall(r'\\w+', tweet)\n",
    "    vect = np.zeros(20)\n",
    "    for word in word_array:\n",
    "        i = np.argwhere(voc == word)\n",
    "        if(i.shape[0] != 0): \n",
    "            vect += all_words[i[0][0]]\n",
    "    return vect/len(word_array)"
   ]
  },
  {
   "cell_type": "code",
   "execution_count": 10,
   "metadata": {},
   "outputs": [
    {
     "data": {
      "text/plain": [
       "array([ 0.08483506,  0.18905336,  0.13301682,  0.28761705,  0.15026169,\n",
       "        0.16017279, -0.12708856, -0.16646328, -0.28536286,  0.23276146,\n",
       "       -0.03472253, -0.06886545, -0.33791882, -0.17811641, -0.39209849,\n",
       "       -0.05214223,  0.27099058, -0.06285391,  0.33469796,  0.25988553])"
      ]
     },
     "execution_count": 10,
     "metadata": {},
     "output_type": "execute_result"
    }
   ],
   "source": [
    "# Test\n",
    "tweet_to_vect('i love machine learning')"
   ]
  },
  {
   "cell_type": "code",
   "execution_count": 11,
   "metadata": {
    "collapsed": true
   },
   "outputs": [],
   "source": [
    "# Add attributes to the dataframes\n",
    "tweet_pos['vect'] = \"\"\n",
    "tweet_pos['pred'] = 1\n",
    "tweet_neg['vect'] = \"\"\n",
    "tweet_neg['pred'] = -1\n",
    "\n",
    "tweet_pos.columns = ['tweet', 'vect', 'pred']\n",
    "tweet_neg.columns = ['tweet', 'vect', 'pred']"
   ]
  },
  {
   "cell_type": "code",
   "execution_count": 12,
   "metadata": {
    "collapsed": true
   },
   "outputs": [],
   "source": [
    "tweet_pos.vect = tweet_pos.tweet.apply(lambda x: tweet_to_vect(x))\n",
    "tweet_neg.vect = tweet_neg.tweet.apply(lambda x: tweet_to_vect(x))"
   ]
  },
  {
   "cell_type": "code",
   "execution_count": 13,
   "metadata": {},
   "outputs": [
    {
     "data": {
      "text/html": [
       "<div>\n",
       "<style>\n",
       "    .dataframe thead tr:only-child th {\n",
       "        text-align: right;\n",
       "    }\n",
       "\n",
       "    .dataframe thead th {\n",
       "        text-align: left;\n",
       "    }\n",
       "\n",
       "    .dataframe tbody tr th {\n",
       "        vertical-align: top;\n",
       "    }\n",
       "</style>\n",
       "<table border=\"1\" class=\"dataframe\">\n",
       "  <thead>\n",
       "    <tr style=\"text-align: right;\">\n",
       "      <th></th>\n",
       "      <th>tweet</th>\n",
       "      <th>vect</th>\n",
       "      <th>pred</th>\n",
       "    </tr>\n",
       "  </thead>\n",
       "  <tbody>\n",
       "    <tr>\n",
       "      <th>0</th>\n",
       "      <td>&lt;user&gt; i dunno justin read my mention or not ....</td>\n",
       "      <td>[0.12187350126213467, 0.2392204874081336, 0.17...</td>\n",
       "      <td>1</td>\n",
       "    </tr>\n",
       "    <tr>\n",
       "      <th>1</th>\n",
       "      <td>because your logic is so dumb , i won't even c...</td>\n",
       "      <td>[0.029361259698287817, 0.2845059508864009, 0.1...</td>\n",
       "      <td>1</td>\n",
       "    </tr>\n",
       "    <tr>\n",
       "      <th>2</th>\n",
       "      <td>&lt;user&gt; just put casper in a box !  looved the...</td>\n",
       "      <td>[0.03723710238158048, 0.010057370590752113, 0....</td>\n",
       "      <td>1</td>\n",
       "    </tr>\n",
       "    <tr>\n",
       "      <th>3</th>\n",
       "      <td>&lt;user&gt; &lt;user&gt; thanks sir &gt; &gt; don't trip lil ma...</td>\n",
       "      <td>[0.01164429224360294, -0.1313781541898918, 0.1...</td>\n",
       "      <td>1</td>\n",
       "    </tr>\n",
       "    <tr>\n",
       "      <th>4</th>\n",
       "      <td>visiting my brother tmr is the bestest birthda...</td>\n",
       "      <td>[0.12157701280012964, 0.07784914951046543, 0.0...</td>\n",
       "      <td>1</td>\n",
       "    </tr>\n",
       "  </tbody>\n",
       "</table>\n",
       "</div>"
      ],
      "text/plain": [
       "                                               tweet  \\\n",
       "0  <user> i dunno justin read my mention or not ....   \n",
       "1  because your logic is so dumb , i won't even c...   \n",
       "2   <user> just put casper in a box !  looved the...   \n",
       "3  <user> <user> thanks sir > > don't trip lil ma...   \n",
       "4  visiting my brother tmr is the bestest birthda...   \n",
       "\n",
       "                                                vect  pred  \n",
       "0  [0.12187350126213467, 0.2392204874081336, 0.17...     1  \n",
       "1  [0.029361259698287817, 0.2845059508864009, 0.1...     1  \n",
       "2  [0.03723710238158048, 0.010057370590752113, 0....     1  \n",
       "3  [0.01164429224360294, -0.1313781541898918, 0.1...     1  \n",
       "4  [0.12157701280012964, 0.07784914951046543, 0.0...     1  "
      ]
     },
     "execution_count": 13,
     "metadata": {},
     "output_type": "execute_result"
    }
   ],
   "source": [
    "tweet_pos.head()"
   ]
  },
  {
   "cell_type": "code",
   "execution_count": 14,
   "metadata": {},
   "outputs": [
    {
     "data": {
      "text/html": [
       "<div>\n",
       "<style>\n",
       "    .dataframe thead tr:only-child th {\n",
       "        text-align: right;\n",
       "    }\n",
       "\n",
       "    .dataframe thead th {\n",
       "        text-align: left;\n",
       "    }\n",
       "\n",
       "    .dataframe tbody tr th {\n",
       "        vertical-align: top;\n",
       "    }\n",
       "</style>\n",
       "<table border=\"1\" class=\"dataframe\">\n",
       "  <thead>\n",
       "    <tr style=\"text-align: right;\">\n",
       "      <th></th>\n",
       "      <th>tweet</th>\n",
       "      <th>vect</th>\n",
       "      <th>pred</th>\n",
       "    </tr>\n",
       "  </thead>\n",
       "  <tbody>\n",
       "    <tr>\n",
       "      <th>0</th>\n",
       "      <td>vinco tresorpack 6 ( difficulty 10 of 10 objec...</td>\n",
       "      <td>[0.01879816550451843, 0.003126974568930025, 0....</td>\n",
       "      <td>-1</td>\n",
       "    </tr>\n",
       "    <tr>\n",
       "      <th>1</th>\n",
       "      <td>glad i dot have taks tomorrow ! ! #thankful #s...</td>\n",
       "      <td>[0.2500810171748917, 0.05640994032588838, 0.18...</td>\n",
       "      <td>-1</td>\n",
       "    </tr>\n",
       "    <tr>\n",
       "      <th>2</th>\n",
       "      <td>1-3 vs celtics in the regular season = were fu...</td>\n",
       "      <td>[0.08948027579672979, 0.1839799238063547, 0.22...</td>\n",
       "      <td>-1</td>\n",
       "    </tr>\n",
       "    <tr>\n",
       "      <th>3</th>\n",
       "      <td>&lt;user&gt; i could actually kill that girl i'm so ...</td>\n",
       "      <td>[0.11785501831281628, 0.19467555676440992, 0.3...</td>\n",
       "      <td>-1</td>\n",
       "    </tr>\n",
       "    <tr>\n",
       "      <th>4</th>\n",
       "      <td>&lt;user&gt; &lt;user&gt; &lt;user&gt; i find that very hard to ...</td>\n",
       "      <td>[0.08321729153265517, -0.12035350613718467, 0....</td>\n",
       "      <td>-1</td>\n",
       "    </tr>\n",
       "  </tbody>\n",
       "</table>\n",
       "</div>"
      ],
      "text/plain": [
       "                                               tweet  \\\n",
       "0  vinco tresorpack 6 ( difficulty 10 of 10 objec...   \n",
       "1  glad i dot have taks tomorrow ! ! #thankful #s...   \n",
       "2  1-3 vs celtics in the regular season = were fu...   \n",
       "3  <user> i could actually kill that girl i'm so ...   \n",
       "4  <user> <user> <user> i find that very hard to ...   \n",
       "\n",
       "                                                vect  pred  \n",
       "0  [0.01879816550451843, 0.003126974568930025, 0....    -1  \n",
       "1  [0.2500810171748917, 0.05640994032588838, 0.18...    -1  \n",
       "2  [0.08948027579672979, 0.1839799238063547, 0.22...    -1  \n",
       "3  [0.11785501831281628, 0.19467555676440992, 0.3...    -1  \n",
       "4  [0.08321729153265517, -0.12035350613718467, 0....    -1  "
      ]
     },
     "execution_count": 14,
     "metadata": {},
     "output_type": "execute_result"
    }
   ],
   "source": [
    "tweet_neg.head()"
   ]
  },
  {
   "cell_type": "code",
   "execution_count": 15,
   "metadata": {
    "collapsed": true
   },
   "outputs": [],
   "source": [
    "# Map all -1 to 0\n",
    "def neg_to_zero(array):\n",
    "    ret = np.zeros(len(array))\n",
    "    for i in range(len(array)):\n",
    "        if(array[i] == 1):\n",
    "            ret[i] = 1\n",
    "    return ret"
   ]
  },
  {
   "cell_type": "code",
   "execution_count": 16,
   "metadata": {
    "collapsed": true
   },
   "outputs": [],
   "source": [
    "# Map all 0 to -1\n",
    "def zero_to_neg(array):\n",
    "    ret = np.ones(len(array))\n",
    "    for i in range(len(array)):\n",
    "        if(array[i] == 0):\n",
    "            ret[i] = -1\n",
    "    return ret"
   ]
  },
  {
   "cell_type": "code",
   "execution_count": 17,
   "metadata": {
    "collapsed": true
   },
   "outputs": [],
   "source": [
    "# Create train features and train predictions\n",
    "all_tweets = tweet_neg.append(tweet_pos)\n",
    "all_tweets = all_tweets.reset_index().drop(['index', 'tweet'], axis = 1)"
   ]
  },
  {
   "cell_type": "code",
   "execution_count": 18,
   "metadata": {
    "collapsed": true
   },
   "outputs": [],
   "source": [
    "# Create train features and train predictions\n",
    "x_train = np.vstack(all_tweets.values[:, 0])\n",
    "y_train = neg_to_zero(all_tweets.values[:, 1])"
   ]
  },
  {
   "cell_type": "code",
   "execution_count": 19,
   "metadata": {
    "collapsed": true
   },
   "outputs": [],
   "source": [
    "# Store the mean and standard deviation of x_train\n",
    "mean = np.mean(x_train)\n",
    "std = np.std(x_train)\n",
    "# Standardize x_train\n",
    "x_train = (x_train - mean) / std"
   ]
  },
  {
   "cell_type": "code",
   "execution_count": 20,
   "metadata": {
    "collapsed": true
   },
   "outputs": [],
   "source": [
    "def clean_data(array):\n",
    "    \"\"\" Clean the data by deleting the id\n",
    "        placed in the front of the tweet.\"\"\"\n",
    "    ret = np.zeros(len(array))\n",
    "    for i in range(len(array)):\n",
    "        drop_id = len(str(i+1)) + 1\n",
    "        array[i, 0] = array[i, 0][int(drop_id):]\n",
    "    return array"
   ]
  },
  {
   "cell_type": "code",
   "execution_count": 44,
   "metadata": {},
   "outputs": [
    {
     "data": {
      "text/html": [
       "<div>\n",
       "<style>\n",
       "    .dataframe thead tr:only-child th {\n",
       "        text-align: right;\n",
       "    }\n",
       "\n",
       "    .dataframe thead th {\n",
       "        text-align: left;\n",
       "    }\n",
       "\n",
       "    .dataframe tbody tr th {\n",
       "        vertical-align: top;\n",
       "    }\n",
       "</style>\n",
       "<table border=\"1\" class=\"dataframe\">\n",
       "  <thead>\n",
       "    <tr style=\"text-align: right;\">\n",
       "      <th></th>\n",
       "      <th>0</th>\n",
       "    </tr>\n",
       "  </thead>\n",
       "  <tbody>\n",
       "    <tr>\n",
       "      <th>0</th>\n",
       "      <td>1,sea doo pro sea scooter ( sports with the po...</td>\n",
       "    </tr>\n",
       "    <tr>\n",
       "      <th>1</th>\n",
       "      <td>2,&lt;user&gt; shucks well i work all week so now i ...</td>\n",
       "    </tr>\n",
       "    <tr>\n",
       "      <th>2</th>\n",
       "      <td>3,i cant stay away from bug thats my baby</td>\n",
       "    </tr>\n",
       "    <tr>\n",
       "      <th>3</th>\n",
       "      <td>4,&lt;user&gt; no ma'am ! ! ! lol im perfectly fine ...</td>\n",
       "    </tr>\n",
       "    <tr>\n",
       "      <th>4</th>\n",
       "      <td>5,whenever i fall asleep watching the tv , i a...</td>\n",
       "    </tr>\n",
       "  </tbody>\n",
       "</table>\n",
       "</div>"
      ],
      "text/plain": [
       "                                                   0\n",
       "0  1,sea doo pro sea scooter ( sports with the po...\n",
       "1  2,<user> shucks well i work all week so now i ...\n",
       "2          3,i cant stay away from bug thats my baby\n",
       "3  4,<user> no ma'am ! ! ! lol im perfectly fine ...\n",
       "4  5,whenever i fall asleep watching the tv , i a..."
      ]
     },
     "execution_count": 44,
     "metadata": {},
     "output_type": "execute_result"
    }
   ],
   "source": [
    "# Load test set \n",
    "tweets_test = pd.read_csv('data/test_data.txt', sep = '\\t', header = None)\n",
    "tweets_test.head()"
   ]
  },
  {
   "cell_type": "code",
   "execution_count": 22,
   "metadata": {
    "collapsed": true
   },
   "outputs": [],
   "source": [
    "# Clean test set\n",
    "tweets_tst = clean_data(tweets_test.values)"
   ]
  },
  {
   "cell_type": "code",
   "execution_count": 23,
   "metadata": {
    "collapsed": true
   },
   "outputs": [],
   "source": [
    "# Map all tweets to the corresponding vector\n",
    "x_test = [tweet_to_vect(str(x)) for x in tweets_tst]"
   ]
  },
  {
   "cell_type": "code",
   "execution_count": null,
   "metadata": {
    "collapsed": true
   },
   "outputs": [],
   "source": [
    "# Create the model using logistic regression and predict the values\n",
    "# logistic = LogisticRegression(solver = 'lbfgs')\n",
    "# model = logistic.fit(x_train, y_train)"
   ]
  },
  {
   "cell_type": "code",
   "execution_count": 24,
   "metadata": {},
   "outputs": [
    {
     "data": {
      "text/plain": [
       "array([ True,  True, False,  True,  True,  True,  True,  True,  True,\n",
       "        True, False,  True, False,  True,  True,  True,  True, False,\n",
       "       False,  True])"
      ]
     },
     "execution_count": 24,
     "metadata": {},
     "output_type": "execute_result"
    }
   ],
   "source": [
    "# Create the model using logistic regression and\n",
    "# feature reduction with 5-fold cross validation\n",
    "model = RFECV(LogisticRegression(solver = 'lbfgs'), step = 1, cv = 5)\n",
    "model = model.fit(x_train, y_train)\n",
    "model.support_ "
   ]
  },
  {
   "cell_type": "code",
   "execution_count": 25,
   "metadata": {},
   "outputs": [
    {
     "data": {
      "text/plain": [
       "array([[ 2],\n",
       "       [10],\n",
       "       [12],\n",
       "       [17],\n",
       "       [18]])"
      ]
     },
     "execution_count": 25,
     "metadata": {},
     "output_type": "execute_result"
    }
   ],
   "source": [
    "# Print indices of non relevant features\n",
    "np.argwhere(model.support_ == False)"
   ]
  },
  {
   "cell_type": "code",
   "execution_count": 26,
   "metadata": {},
   "outputs": [
    {
     "data": {
      "text/plain": [
       "(196970, 15)"
      ]
     },
     "execution_count": 26,
     "metadata": {},
     "output_type": "execute_result"
    }
   ],
   "source": [
    "# Delete non relevant features from train set\n",
    "x_tr = np.delete(x_train, [2, 10, 12, 17, 18], axis = 1)\n",
    "x_tr.shape"
   ]
  },
  {
   "cell_type": "code",
   "execution_count": 45,
   "metadata": {},
   "outputs": [
    {
     "data": {
      "text/plain": [
       "(10000, 15)"
      ]
     },
     "execution_count": 45,
     "metadata": {},
     "output_type": "execute_result"
    }
   ],
   "source": [
    "# Standardize test setp and delete non relevant features\n",
    "x_te = np.vstack(x_test)\n",
    "x_te = (x_te - mean) / std\n",
    "x_te = np.delete(x_te, [2, 10, 12, 17, 18], axis = 1)\n",
    "x_te.shape"
   ]
  },
  {
   "cell_type": "code",
   "execution_count": 46,
   "metadata": {},
   "outputs": [
    {
     "data": {
      "text/plain": [
       "((196970, 136), (10000, 136))"
      ]
     },
     "execution_count": 46,
     "metadata": {},
     "output_type": "execute_result"
    }
   ],
   "source": [
    "# Polynomial expension of degree 4\n",
    "poly = PolynomialFeatures(2)\n",
    "x_tr_poly = poly.fit_transform(x_tr)\n",
    "x_te_poly = poly.fit_transform(x_te)\n",
    "x_tr_poly.shape, x_te_poly.shape"
   ]
  },
  {
   "cell_type": "code",
   "execution_count": 47,
   "metadata": {},
   "outputs": [],
   "source": [
    "# Create a new model usign the same as before but with non\n",
    "# relevant features deleted\n",
    "log = LogisticRegression(solver = 'lbfgs', max_iter = 500)\n",
    "mod = log.fit(x_tr_poly, y_train)"
   ]
  },
  {
   "cell_type": "code",
   "execution_count": 48,
   "metadata": {
    "collapsed": true
   },
   "outputs": [],
   "source": [
    "# Predict the values\n",
    "y_test = mod.predict(x_te_poly)\n",
    "y_pred = zero_to_neg(y_test)"
   ]
  },
  {
   "cell_type": "code",
   "execution_count": 55,
   "metadata": {
    "collapsed": true
   },
   "outputs": [],
   "source": [
    "def build_submission(y_pred):\n",
    "    \"\"\" Build submission and save it into the\n",
    "        folder 'prediction'.\"\"\"\n",
    "    ret = np.ones((len(y_pred), 2))\n",
    "    for i in range(len(y_pred)):\n",
    "        ret[i] = np.array([i+1, y_pred[i]])\n",
    "    ret = ret.astype(int)\n",
    "    sub = pd.DataFrame(data = ret)\n",
    "    sub.columns = ['Id', 'Prediction']\n",
    "    sub.to_csv('predictions/pred6.csv', index=None)"
   ]
  },
  {
   "cell_type": "code",
   "execution_count": 56,
   "metadata": {},
   "outputs": [],
   "source": [
    "build_submission(y_pred)"
   ]
  }
 ],
 "metadata": {
  "kernelspec": {
   "display_name": "Python 3",
   "language": "python",
   "name": "python3"
  },
  "language_info": {
   "codemirror_mode": {
    "name": "ipython",
    "version": 3
   },
   "file_extension": ".py",
   "mimetype": "text/x-python",
   "name": "python",
   "nbconvert_exporter": "python",
   "pygments_lexer": "ipython3",
   "version": "3.6.1"
  }
 },
 "nbformat": 4,
 "nbformat_minor": 2
}
