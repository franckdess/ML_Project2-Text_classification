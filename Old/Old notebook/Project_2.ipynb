{
 "cells": [
  {
   "cell_type": "code",
   "execution_count": 1,
   "metadata": {},
   "outputs": [
    {
     "name": "stdout",
     "output_type": "stream",
     "text": [
      "[nltk_data] Downloading package punkt to\n",
      "[nltk_data]     /Users/franckdessimoz/nltk_data...\n",
      "[nltk_data]   Package punkt is already up-to-date!\n"
     ]
    }
   ],
   "source": [
    "%matplotlib inline\n",
    "import sklearn\n",
    "import numpy as np\n",
    "import scipy as sp\n",
    "import pandas as pd\n",
    "import matplotlib.pyplot as plt\n",
    "import math\n",
    "import nltk\n",
    "nltk.download('punkt')\n",
    "from sklearn.model_selection import *\n",
    "from sklearn.metrics import accuracy_score\n",
    "import re\n",
    "from sklearn.svm import SVR, LinearSVC, SVC\n",
    "from sklearn.linear_model import LogisticRegression, SGDClassifier\n",
    "from sklearn.feature_selection import RFECV\n",
    "from sklearn.svm import SVR\n",
    "from sklearn.svm import SVC\n",
    "from sklearn.preprocessing import PolynomialFeatures\n",
    "from sklearn.feature_extraction.text import TfidfVectorizer\n",
    "\n",
    "from functions import *\n",
    "%load_ext autoreload\n",
    "%autoreload 2"
   ]
  },
  {
   "cell_type": "markdown",
   "metadata": {},
   "source": [
    "## Import and clean the data"
   ]
  },
  {
   "cell_type": "code",
   "execution_count": 2,
   "metadata": {
    "collapsed": true
   },
   "outputs": [],
   "source": [
    "# Import all vector words\n",
    "all_vects = np.load('voc/embeddings.npy')\n",
    "\n",
    "# Import vocab cut\n",
    "vocab_cut = pd.read_fwf('voc/vocab_cut.txt', sep = \"\\t\", header = None)\n",
    "voc_cut = vocab_cut.values\n",
    "\n",
    "# Import vocab with count\n",
    "vocab = pd.read_csv('voc/vocab.txt', header = None, delim_whitespace = True)\n",
    "voc = vocab.values"
   ]
  },
  {
   "cell_type": "code",
   "execution_count": 3,
   "metadata": {
    "collapsed": true
   },
   "outputs": [],
   "source": [
    "# Load and construct train sets\n",
    "tweet_pos = pd.read_csv('data/train_pos.txt', header = None, sep = \"\\r\\n\", engine = 'python')\n",
    "tweet_neg = pd.read_csv('data/train_neg.txt', header = None, sep = \"\\r\\n\", engine = 'python')\n",
    "tweet_pos['pred'] = 1\n",
    "tweet_neg['pred'] = 0\n",
    "\n",
    "tweet_pos.columns = ['tweet', 'pred']\n",
    "tweet_neg.columns = ['tweet', 'pred']\n",
    "\n",
    "all_tweets = tweet_neg.append(tweet_pos)\n",
    "all_tweets = all_tweets.reset_index().drop(['index'], axis = 1)"
   ]
  },
  {
   "cell_type": "code",
   "execution_count": 4,
   "metadata": {},
   "outputs": [
    {
     "data": {
      "text/html": [
       "<div>\n",
       "<style>\n",
       "    .dataframe thead tr:only-child th {\n",
       "        text-align: right;\n",
       "    }\n",
       "\n",
       "    .dataframe thead th {\n",
       "        text-align: left;\n",
       "    }\n",
       "\n",
       "    .dataframe tbody tr th {\n",
       "        vertical-align: top;\n",
       "    }\n",
       "</style>\n",
       "<table border=\"1\" class=\"dataframe\">\n",
       "  <thead>\n",
       "    <tr style=\"text-align: right;\">\n",
       "      <th></th>\n",
       "      <th>tweet</th>\n",
       "      <th>pred</th>\n",
       "    </tr>\n",
       "  </thead>\n",
       "  <tbody>\n",
       "    <tr>\n",
       "      <th>0</th>\n",
       "      <td>vinco tresorpack 6 ( difficulty 10 of 10 objec...</td>\n",
       "      <td>0</td>\n",
       "    </tr>\n",
       "    <tr>\n",
       "      <th>1</th>\n",
       "      <td>glad i dot have taks tomorrow ! ! #thankful #s...</td>\n",
       "      <td>0</td>\n",
       "    </tr>\n",
       "    <tr>\n",
       "      <th>2</th>\n",
       "      <td>1-3 vs celtics in the regular season = were fu...</td>\n",
       "      <td>0</td>\n",
       "    </tr>\n",
       "    <tr>\n",
       "      <th>3</th>\n",
       "      <td>&lt;user&gt; i could actually kill that girl i'm so ...</td>\n",
       "      <td>0</td>\n",
       "    </tr>\n",
       "    <tr>\n",
       "      <th>4</th>\n",
       "      <td>&lt;user&gt; &lt;user&gt; &lt;user&gt; i find that very hard to ...</td>\n",
       "      <td>0</td>\n",
       "    </tr>\n",
       "    <tr>\n",
       "      <th>5</th>\n",
       "      <td>wish i could be out all night tonight ! &lt;user&gt;</td>\n",
       "      <td>0</td>\n",
       "    </tr>\n",
       "    <tr>\n",
       "      <th>6</th>\n",
       "      <td>&lt;user&gt; i got kicked out the wgm</td>\n",
       "      <td>0</td>\n",
       "    </tr>\n",
       "    <tr>\n",
       "      <th>7</th>\n",
       "      <td>rt &lt;user&gt; &lt;user&gt; &lt;user&gt; yes she is ! u tell it...</td>\n",
       "      <td>0</td>\n",
       "    </tr>\n",
       "    <tr>\n",
       "      <th>8</th>\n",
       "      <td>why is she so perfect &lt;url&gt;</td>\n",
       "      <td>0</td>\n",
       "    </tr>\n",
       "    <tr>\n",
       "      <th>9</th>\n",
       "      <td>&lt;user&gt; hi harry ! did u havea good time in aus...</td>\n",
       "      <td>0</td>\n",
       "    </tr>\n",
       "    <tr>\n",
       "      <th>10</th>\n",
       "      <td>introduction to programming with c + + ( 2nd e...</td>\n",
       "      <td>0</td>\n",
       "    </tr>\n",
       "    <tr>\n",
       "      <th>11</th>\n",
       "      <td>introduction to programming with c + + ( 2nd e...</td>\n",
       "      <td>0</td>\n",
       "    </tr>\n",
       "    <tr>\n",
       "      <th>12</th>\n",
       "      <td>introduction to programming with c + + ( 2nd e...</td>\n",
       "      <td>0</td>\n",
       "    </tr>\n",
       "    <tr>\n",
       "      <th>13</th>\n",
       "      <td>&lt;user&gt; i'm white . #aw</td>\n",
       "      <td>0</td>\n",
       "    </tr>\n",
       "    <tr>\n",
       "      <th>14</th>\n",
       "      <td>&lt;user&gt; dan i love and miss you ! don't be sad ...</td>\n",
       "      <td>0</td>\n",
       "    </tr>\n",
       "    <tr>\n",
       "      <th>15</th>\n",
       "      <td>so many wonderful building in dc but still mis...</td>\n",
       "      <td>0</td>\n",
       "    </tr>\n",
       "    <tr>\n",
       "      <th>16</th>\n",
       "      <td>&lt;user&gt; it's annoying because i secretly find i...</td>\n",
       "      <td>0</td>\n",
       "    </tr>\n",
       "    <tr>\n",
       "      <th>17</th>\n",
       "      <td>the post-boom in spanish american fiction ( su...</td>\n",
       "      <td>0</td>\n",
       "    </tr>\n",
       "    <tr>\n",
       "      <th>18</th>\n",
       "      <td>layers of the heart ( paperback this journey w...</td>\n",
       "      <td>0</td>\n",
       "    </tr>\n",
       "    <tr>\n",
       "      <th>19</th>\n",
       "      <td>layers of the heart ( paperback this journey w...</td>\n",
       "      <td>0</td>\n",
       "    </tr>\n",
       "    <tr>\n",
       "      <th>20</th>\n",
       "      <td>guess who texted me again and wants us back ( ...</td>\n",
       "      <td>0</td>\n",
       "    </tr>\n",
       "    <tr>\n",
       "      <th>21</th>\n",
       "      <td>&lt;user&gt; # 2 farrow ( v a litter offence ; wilfu...</td>\n",
       "      <td>0</td>\n",
       "    </tr>\n",
       "    <tr>\n",
       "      <th>22</th>\n",
       "      <td>99000 people at barca's ground tonight are gon...</td>\n",
       "      <td>0</td>\n",
       "    </tr>\n",
       "    <tr>\n",
       "      <th>23</th>\n",
       "      <td>mlb 07 the show ( video game mlb 07 : the show...</td>\n",
       "      <td>0</td>\n",
       "    </tr>\n",
       "    <tr>\n",
       "      <th>24</th>\n",
       "      <td>rt if #justinbieber is not following you</td>\n",
       "      <td>0</td>\n",
       "    </tr>\n",
       "    <tr>\n",
       "      <th>25</th>\n",
       "      <td>rt if #justinbieber is not following you</td>\n",
       "      <td>0</td>\n",
       "    </tr>\n",
       "    <tr>\n",
       "      <th>26</th>\n",
       "      <td>rt if #justinbieber is not following you</td>\n",
       "      <td>0</td>\n",
       "    </tr>\n",
       "    <tr>\n",
       "      <th>27</th>\n",
       "      <td>why should i even care ? she dont want my whit...</td>\n",
       "      <td>0</td>\n",
       "    </tr>\n",
       "    <tr>\n",
       "      <th>28</th>\n",
       "      <td>ugh idk why i got my hopes up ! ! ! my plans n...</td>\n",
       "      <td>0</td>\n",
       "    </tr>\n",
       "    <tr>\n",
       "      <th>29</th>\n",
       "      <td>&lt;user&gt; ummm playing trials hd and ignoring the...</td>\n",
       "      <td>0</td>\n",
       "    </tr>\n",
       "    <tr>\n",
       "      <th>...</th>\n",
       "      <td>...</td>\n",
       "      <td>...</td>\n",
       "    </tr>\n",
       "    <tr>\n",
       "      <th>199970</th>\n",
       "      <td>&lt;user&gt; hey what's good take a listen #fb #brok...</td>\n",
       "      <td>1</td>\n",
       "    </tr>\n",
       "    <tr>\n",
       "      <th>199971</th>\n",
       "      <td>&lt;user&gt; hey what's good take a listen #fb #brok...</td>\n",
       "      <td>1</td>\n",
       "    </tr>\n",
       "    <tr>\n",
       "      <th>199972</th>\n",
       "      <td>&lt;user&gt; don't apologize . you are doing your be...</td>\n",
       "      <td>1</td>\n",
       "    </tr>\n",
       "    <tr>\n",
       "      <th>199973</th>\n",
       "      <td>texting c h y n a , she got me laughing</td>\n",
       "      <td>1</td>\n",
       "    </tr>\n",
       "    <tr>\n",
       "      <th>199974</th>\n",
       "      <td>&lt;user&gt; now i'm following u white girl</td>\n",
       "      <td>1</td>\n",
       "    </tr>\n",
       "    <tr>\n",
       "      <th>199975</th>\n",
       "      <td>woot ! friday is here it's heating up between ...</td>\n",
       "      <td>1</td>\n",
       "    </tr>\n",
       "    <tr>\n",
       "      <th>199976</th>\n",
       "      <td>&lt;user&gt; &lt;user&gt; what did he do when you grab his...</td>\n",
       "      <td>1</td>\n",
       "    </tr>\n",
       "    <tr>\n",
       "      <th>199977</th>\n",
       "      <td>&lt;user&gt; oh yeah i know what ones those are good...</td>\n",
       "      <td>1</td>\n",
       "    </tr>\n",
       "    <tr>\n",
       "      <th>199978</th>\n",
       "      <td>as long as you dont make this awkward we shoul...</td>\n",
       "      <td>1</td>\n",
       "    </tr>\n",
       "    <tr>\n",
       "      <th>199979</th>\n",
       "      <td>i just ousted anna j . as the mayor of anna's ...</td>\n",
       "      <td>1</td>\n",
       "    </tr>\n",
       "    <tr>\n",
       "      <th>199980</th>\n",
       "      <td>&lt;user&gt; kerp being all negative , see what happens</td>\n",
       "      <td>1</td>\n",
       "    </tr>\n",
       "    <tr>\n",
       "      <th>199981</th>\n",
       "      <td>&lt;user&gt; &lt;user&gt; &lt;user&gt; &lt;user&gt; pro-tip for fellas...</td>\n",
       "      <td>1</td>\n",
       "    </tr>\n",
       "    <tr>\n",
       "      <th>199982</th>\n",
       "      <td>&lt;user&gt; jgn la takut . u mest dpt mumtaz punya ...</td>\n",
       "      <td>1</td>\n",
       "    </tr>\n",
       "    <tr>\n",
       "      <th>199983</th>\n",
       "      <td>gonna be headed home from this job in a half h...</td>\n",
       "      <td>1</td>\n",
       "    </tr>\n",
       "    <tr>\n",
       "      <th>199984</th>\n",
       "      <td>shouts out to &lt;user&gt; for telling me how it is ...</td>\n",
       "      <td>1</td>\n",
       "    </tr>\n",
       "    <tr>\n",
       "      <th>199985</th>\n",
       "      <td>&lt;user&gt; does it make you think of me dancing ar...</td>\n",
       "      <td>1</td>\n",
       "    </tr>\n",
       "    <tr>\n",
       "      <th>199986</th>\n",
       "      <td>i love knowing that i get to hang out with my ...</td>\n",
       "      <td>1</td>\n",
       "    </tr>\n",
       "    <tr>\n",
       "      <th>199987</th>\n",
       "      <td>&lt;user&gt; i'll enough fun for you too</td>\n",
       "      <td>1</td>\n",
       "    </tr>\n",
       "    <tr>\n",
       "      <th>199988</th>\n",
       "      <td>&lt;user&gt; i just heard you're out with &lt;user&gt; thi...</td>\n",
       "      <td>1</td>\n",
       "    </tr>\n",
       "    <tr>\n",
       "      <th>199989</th>\n",
       "      <td>&lt;user&gt; aww thanks dj tim ! xx</td>\n",
       "      <td>1</td>\n",
       "    </tr>\n",
       "    <tr>\n",
       "      <th>199990</th>\n",
       "      <td>i may say \" i hate you . \" like a billion time...</td>\n",
       "      <td>1</td>\n",
       "    </tr>\n",
       "    <tr>\n",
       "      <th>199991</th>\n",
       "      <td>&lt;user&gt; can i be apart of the thumbs club pleas...</td>\n",
       "      <td>1</td>\n",
       "    </tr>\n",
       "    <tr>\n",
       "      <th>199992</th>\n",
       "      <td>linfield tickets go on sale 2morrow good deals...</td>\n",
       "      <td>1</td>\n",
       "    </tr>\n",
       "    <tr>\n",
       "      <th>199993</th>\n",
       "      <td>&lt;user&gt; coming to visit you</td>\n",
       "      <td>1</td>\n",
       "    </tr>\n",
       "    <tr>\n",
       "      <th>199994</th>\n",
       "      <td>it really is a date</td>\n",
       "      <td>1</td>\n",
       "    </tr>\n",
       "    <tr>\n",
       "      <th>199995</th>\n",
       "      <td>&lt;user&gt; hey gina what's up ?</td>\n",
       "      <td>1</td>\n",
       "    </tr>\n",
       "    <tr>\n",
       "      <th>199996</th>\n",
       "      <td>&lt;user&gt; sas 9.1 . 3 and 9.2 , east 5 , s-plus 8...</td>\n",
       "      <td>1</td>\n",
       "    </tr>\n",
       "    <tr>\n",
       "      <th>199997</th>\n",
       "      <td>&lt;user&gt; &lt;user&gt; um gord ... i just read your pro...</td>\n",
       "      <td>1</td>\n",
       "    </tr>\n",
       "    <tr>\n",
       "      <th>199998</th>\n",
       "      <td>&lt;user&gt; i'm so excited for tomorrow ! look out ...</td>\n",
       "      <td>1</td>\n",
       "    </tr>\n",
       "    <tr>\n",
       "      <th>199999</th>\n",
       "      <td>i always wondered what the job application is ...</td>\n",
       "      <td>1</td>\n",
       "    </tr>\n",
       "  </tbody>\n",
       "</table>\n",
       "<p>200000 rows × 2 columns</p>\n",
       "</div>"
      ],
      "text/plain": [
       "                                                    tweet  pred\n",
       "0       vinco tresorpack 6 ( difficulty 10 of 10 objec...     0\n",
       "1       glad i dot have taks tomorrow ! ! #thankful #s...     0\n",
       "2       1-3 vs celtics in the regular season = were fu...     0\n",
       "3       <user> i could actually kill that girl i'm so ...     0\n",
       "4       <user> <user> <user> i find that very hard to ...     0\n",
       "5          wish i could be out all night tonight ! <user>     0\n",
       "6                         <user> i got kicked out the wgm     0\n",
       "7       rt <user> <user> <user> yes she is ! u tell it...     0\n",
       "8                             why is she so perfect <url>     0\n",
       "9       <user> hi harry ! did u havea good time in aus...     0\n",
       "10      introduction to programming with c + + ( 2nd e...     0\n",
       "11      introduction to programming with c + + ( 2nd e...     0\n",
       "12      introduction to programming with c + + ( 2nd e...     0\n",
       "13                                 <user> i'm white . #aw     0\n",
       "14      <user> dan i love and miss you ! don't be sad ...     0\n",
       "15      so many wonderful building in dc but still mis...     0\n",
       "16      <user> it's annoying because i secretly find i...     0\n",
       "17      the post-boom in spanish american fiction ( su...     0\n",
       "18      layers of the heart ( paperback this journey w...     0\n",
       "19      layers of the heart ( paperback this journey w...     0\n",
       "20      guess who texted me again and wants us back ( ...     0\n",
       "21      <user> # 2 farrow ( v a litter offence ; wilfu...     0\n",
       "22      99000 people at barca's ground tonight are gon...     0\n",
       "23      mlb 07 the show ( video game mlb 07 : the show...     0\n",
       "24               rt if #justinbieber is not following you     0\n",
       "25               rt if #justinbieber is not following you     0\n",
       "26               rt if #justinbieber is not following you     0\n",
       "27      why should i even care ? she dont want my whit...     0\n",
       "28      ugh idk why i got my hopes up ! ! ! my plans n...     0\n",
       "29      <user> ummm playing trials hd and ignoring the...     0\n",
       "...                                                   ...   ...\n",
       "199970  <user> hey what's good take a listen #fb #brok...     1\n",
       "199971  <user> hey what's good take a listen #fb #brok...     1\n",
       "199972  <user> don't apologize . you are doing your be...     1\n",
       "199973            texting c h y n a , she got me laughing     1\n",
       "199974              <user> now i'm following u white girl     1\n",
       "199975  woot ! friday is here it's heating up between ...     1\n",
       "199976  <user> <user> what did he do when you grab his...     1\n",
       "199977  <user> oh yeah i know what ones those are good...     1\n",
       "199978  as long as you dont make this awkward we shoul...     1\n",
       "199979  i just ousted anna j . as the mayor of anna's ...     1\n",
       "199980  <user> kerp being all negative , see what happens     1\n",
       "199981  <user> <user> <user> <user> pro-tip for fellas...     1\n",
       "199982  <user> jgn la takut . u mest dpt mumtaz punya ...     1\n",
       "199983  gonna be headed home from this job in a half h...     1\n",
       "199984  shouts out to <user> for telling me how it is ...     1\n",
       "199985  <user> does it make you think of me dancing ar...     1\n",
       "199986  i love knowing that i get to hang out with my ...     1\n",
       "199987                 <user> i'll enough fun for you too     1\n",
       "199988  <user> i just heard you're out with <user> thi...     1\n",
       "199989                      <user> aww thanks dj tim ! xx     1\n",
       "199990  i may say \" i hate you . \" like a billion time...     1\n",
       "199991  <user> can i be apart of the thumbs club pleas...     1\n",
       "199992  linfield tickets go on sale 2morrow good deals...     1\n",
       "199993                         <user> coming to visit you     1\n",
       "199994                                it really is a date     1\n",
       "199995                        <user> hey gina what's up ?     1\n",
       "199996  <user> sas 9.1 . 3 and 9.2 , east 5 , s-plus 8...     1\n",
       "199997  <user> <user> um gord ... i just read your pro...     1\n",
       "199998  <user> i'm so excited for tomorrow ! look out ...     1\n",
       "199999  i always wondered what the job application is ...     1\n",
       "\n",
       "[200000 rows x 2 columns]"
      ]
     },
     "execution_count": 4,
     "metadata": {},
     "output_type": "execute_result"
    }
   ],
   "source": [
    "all_tweets"
   ]
  },
  {
   "cell_type": "code",
   "execution_count": 4,
   "metadata": {
    "collapsed": true
   },
   "outputs": [],
   "source": [
    "x_train_tweet = np.vstack(all_tweets.values[:, 0])\n",
    "x_train = [tweet_to_vect(str(x), voc_cut, all_vects) for x in x_train_tweet]\n",
    "y_train = all_tweets.values[:, 1].astype(int)"
   ]
  },
  {
   "cell_type": "code",
   "execution_count": 5,
   "metadata": {
    "collapsed": true
   },
   "outputs": [],
   "source": [
    "# Load and construct test set\n",
    "tweet_test = pd.read_csv('data/test_data.txt', header = None, sep = \"\\r\\n\", engine = 'python')\n",
    "tweet_clean = clean_data(tweet_test.values)\n",
    "x_test = [tweet_to_vect(str(x), voc_cut, all_vects) for x in tweet_clean]"
   ]
  },
  {
   "cell_type": "code",
   "execution_count": 6,
   "metadata": {},
   "outputs": [
    {
     "data": {
      "text/plain": [
       "((200000, 1771), (10000, 1771))"
      ]
     },
     "execution_count": 6,
     "metadata": {},
     "output_type": "execute_result"
    }
   ],
   "source": [
    "# Polynomial expension of degree 2\n",
    "poly = PolynomialFeatures(3)\n",
    "x_tr_poly = poly.fit_transform(x_train)\n",
    "x_te_poly = poly.fit_transform(x_test)\n",
    "x_tr_poly.shape, x_te_poly.shape"
   ]
  },
  {
   "cell_type": "code",
   "execution_count": 7,
   "metadata": {
    "collapsed": true
   },
   "outputs": [],
   "source": [
    "mean = np.mean(x_tr_poly)\n",
    "std = np.std(x_tr_poly)\n",
    "x_tr_poly_std = (x_tr_poly - mean) / std\n",
    "\n",
    "x_TR, x_TE, y_TR, y_TE = train_test_split(x_tr_poly_std, y_train, test_size = 0.2)"
   ]
  },
  {
   "cell_type": "code",
   "execution_count": 8,
   "metadata": {},
   "outputs": [
    {
     "data": {
      "text/plain": [
       "((160000, 1771), (40000, 1771), (160000,), (40000,))"
      ]
     },
     "execution_count": 8,
     "metadata": {},
     "output_type": "execute_result"
    }
   ],
   "source": [
    "x_TR.shape, x_TE.shape, y_TR.shape, y_TE.shape"
   ]
  },
  {
   "cell_type": "code",
   "execution_count": 9,
   "metadata": {
    "collapsed": true
   },
   "outputs": [],
   "source": [
    "# Create the model using svm and feature reduction with 5-fold cross validation\n",
    "def classify(classifier, x_TR, y_TR, x_TE, y_TE):\n",
    "    model = classifier.fit(x_TR, y_TR)  \n",
    "    y_pred = model.predict(x_TE)\n",
    "    return accuracy_score(y_pred, y_TE)"
   ]
  },
  {
   "cell_type": "code",
   "execution_count": null,
   "metadata": {
    "collapsed": true
   },
   "outputs": [],
   "source": [
    "classify(LogisticRegression(solver='lbfgs', max_iter=500), x_TR, y_TR, x_TE, y_TE)"
   ]
  },
  {
   "cell_type": "code",
   "execution_count": null,
   "metadata": {
    "collapsed": true
   },
   "outputs": [],
   "source": [
    "classify(SGDClassifier(tol=1e-3, max_iter=1000), x_TR, y_TR, x_TE, y_TE)"
   ]
  },
  {
   "cell_type": "code",
   "execution_count": 10,
   "metadata": {},
   "outputs": [
    {
     "name": "stderr",
     "output_type": "stream",
     "text": [
      "/Users/franckdessimoz/anaconda/lib/python3.6/site-packages/sklearn/svm/base.py:922: ConvergenceWarning: Liblinear failed to converge, increase the number of iterations.\n",
      "  \"the number of iterations.\", ConvergenceWarning)\n"
     ]
    },
    {
     "data": {
      "text/plain": [
       "0.6453"
      ]
     },
     "execution_count": 10,
     "metadata": {},
     "output_type": "execute_result"
    }
   ],
   "source": [
    "classify(LinearSVC(max_iter=500), x_TR, y_TR, x_TE, y_TE)"
   ]
  },
  {
   "cell_type": "code",
   "execution_count": null,
   "metadata": {
    "collapsed": true
   },
   "outputs": [],
   "source": [
    "# Print indices of non relevant features\n",
    "np.argwhere(model.support_ == False)"
   ]
  },
  {
   "cell_type": "code",
   "execution_count": null,
   "metadata": {
    "collapsed": true
   },
   "outputs": [],
   "source": [
    "# Delete non relevant features from train and test set\n",
    "x_tr_poly_redcuced = np.delete(x_tr_poly, np.argwhere(model.support_ == False)[:, 0], axis = 1)\n",
    "x_te_poly_redcuced = np.delete(x_te_poly, np.argwhere(model.support_ == False)[:, 0], axis = 1)\n",
    "x_tr_poly_redcuced.shape, x_te_poly_redcuced.shape"
   ]
  },
  {
   "cell_type": "code",
   "execution_count": null,
   "metadata": {
    "collapsed": true
   },
   "outputs": [],
   "source": [
    "# Create a new model usign the same as before but with non\n",
    "# relevant features deleted\n",
    "log = LogisticRegression(solver = 'lbfgs', max_iter = 1000)\n",
    "mod = log.fit(x_tr_poly_reduced_, y_train)"
   ]
  },
  {
   "cell_type": "code",
   "execution_count": null,
   "metadata": {
    "collapsed": true
   },
   "outputs": [],
   "source": [
    "# Predict the values\n",
    "y_test = mod.predict(x_te_poly_reduced)\n",
    "y_pred = zero_to_neg(y_test)"
   ]
  },
  {
   "cell_type": "code",
   "execution_count": null,
   "metadata": {
    "collapsed": true
   },
   "outputs": [],
   "source": [
    "build_submission(y_pred, '9')"
   ]
  }
 ],
 "metadata": {
  "kernelspec": {
   "display_name": "Python 3",
   "language": "python",
   "name": "python3"
  },
  "language_info": {
   "codemirror_mode": {
    "name": "ipython",
    "version": 3
   },
   "file_extension": ".py",
   "mimetype": "text/x-python",
   "name": "python",
   "nbconvert_exporter": "python",
   "pygments_lexer": "ipython3",
   "version": "3.6.6"
  }
 },
 "nbformat": 4,
 "nbformat_minor": 2
}
